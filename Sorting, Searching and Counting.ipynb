{
 "cells": [
  {
   "cell_type": "markdown",
   "metadata": {},
   "source": [
    "# Sorting"
   ]
  },
  {
   "cell_type": "code",
   "execution_count": 1,
   "metadata": {},
   "outputs": [
    {
     "name": "stdout",
     "output_type": "stream",
     "text": [
      "Along first axis : \n",
      " [[10  1]\n",
      " [12 15]]\n",
      "\n",
      "Along first axis : \n",
      " [[10 15]\n",
      " [ 1 12]]\n",
      "\n",
      "Along none axis : \n",
      " [ 1 10 12 15]\n"
     ]
    }
   ],
   "source": [
    "import numpy as np\n",
    " \n",
    "# sort along the first axis\n",
    "a = np.array([[12, 15], [10, 1]])\n",
    "arr1 = np.sort(a, axis = 0)        \n",
    "print (\"Along first axis : \\n\", arr1)        \n",
    " \n",
    " \n",
    "# sort along the last axis\n",
    "a = np.array([[10, 15], [12, 1]])\n",
    "arr2 = np.sort(a, axis = -1)        \n",
    "print (\"\\nAlong first axis : \\n\", arr2)\n",
    " \n",
    " \n",
    "a = np.array([[12, 15], [10, 1]])\n",
    "arr1 = np.sort(a, axis = None)        \n",
    "print (\"\\nAlong none axis : \\n\", arr1)"
   ]
  },
  {
   "cell_type": "code",
   "execution_count": 2,
   "metadata": {},
   "outputs": [
    {
     "name": "stdout",
     "output_type": "stream",
     "text": [
      "Original array:\n",
      " [9 3 1 7 4 3 6]\n",
      "Sorted indices of original array-> [2 1 5 4 6 3 0]\n",
      "Sorted array-> [1 3 3 4 6 7 9]\n"
     ]
    }
   ],
   "source": [
    "# working of  numpy.argsort\n",
    "import numpy as np\n",
    " \n",
    "# Numpy array created\n",
    "a = np.array([9, 3, 1, 7, 4, 3, 6])\n",
    " \n",
    "# unsorted array print\n",
    "print('Original array:\\n', a)\n",
    " \n",
    "# Sort array indices\n",
    "b = np.argsort(a)\n",
    "print('Sorted indices of original array->', b)\n",
    " \n",
    "# To get sorted array using sorted indices\n",
    "# c is temp array created of same len as of b\n",
    "c = np.zeros(len(b), dtype = int)\n",
    "for i in range(0, len(b)):\n",
    "    c[i]= a[b[i]]\n",
    "print('Sorted array->', c)"
   ]
  },
  {
   "cell_type": "code",
   "execution_count": 3,
   "metadata": {},
   "outputs": [
    {
     "name": "stdout",
     "output_type": "stream",
     "text": [
      "column a, column b\n",
      "9   4\n",
      "3   6\n",
      "1   9\n",
      "3   2\n",
      "4   1\n",
      "3   8\n",
      "6   7\n",
      "Sorted indices-> [2 3 1 5 4 6 0]\n"
     ]
    }
   ],
   "source": [
    "# numpy.lexsort()\n",
    "import numpy as np\n",
    " \n",
    "# Numpy array created\n",
    "# First column\n",
    "a = np.array([9, 3, 1, 3, 4, 3, 6])\n",
    " \n",
    "# Second column \n",
    "b = np.array([4, 6, 9, 2, 1, 8, 7]) \n",
    "print('column a, column b')\n",
    "for (i, j) in zip(a, b):\n",
    "    print(i, ' ', j)\n",
    " \n",
    "# Sort by a then by b\n",
    "ind = np.lexsort((b, a)) \n",
    "print('Sorted indices->', ind)"
   ]
  },
  {
   "cell_type": "markdown",
   "metadata": {},
   "source": [
    "# Searching"
   ]
  },
  {
   "cell_type": "code",
   "execution_count": 4,
   "metadata": {},
   "outputs": [
    {
     "name": "stdout",
     "output_type": "stream",
     "text": [
      "INPUT ARRAY : \n",
      " [[ 0  1  2  3]\n",
      " [ 4  5  6  7]\n",
      " [ 8  9 10 11]]\n",
      "\n",
      "Max element :  11\n",
      "('\\nIndices of Max element : ', array([2, 2, 2, 2], dtype=int64))\n",
      "('\\nIndices of Max element : ', array([3, 3, 3], dtype=int64))\n"
     ]
    }
   ],
   "source": [
    "# working of argmax()\n",
    " \n",
    "import numpy as geek \n",
    " \n",
    "# Working on 2D array\n",
    "array = geek.arange(12).reshape(3, 4)\n",
    "print(\"INPUT ARRAY : \\n\", array)\n",
    " \n",
    "# No axis mentioned, so works on entire array\n",
    "print(\"\\nMax element : \", geek.argmax(array))\n",
    " \n",
    "# returning Indices of the max element\n",
    "# as per the indices\n",
    "print((\"\\nIndices of Max element : \"\n",
    "      , geek.argmax(array, axis=0)))\n",
    "print((\"\\nIndices of Max element : \"\n",
    "      , geek.argmax(array, axis=1)))"
   ]
  },
  {
   "cell_type": "code",
   "execution_count": 5,
   "metadata": {},
   "outputs": [
    {
     "name": "stdout",
     "output_type": "stream",
     "text": [
      "INPUT ARRAY 1 : \n",
      " [nan, 4, 2, 3, 1]\n",
      "('\\nIndices of max in array1 : ', 1)\n",
      "\n",
      "INPUT ARRAY 2 : \n",
      " [[nan  4.]\n",
      " [ 1.  3.]]\n",
      "('\\nIndices of max in array2 : ', 1)\n",
      "('\\nIndices at axis 1 of array2 : ', array([1, 1], dtype=int64))\n"
     ]
    }
   ],
   "source": [
    "# working of nanargmax()\n",
    " \n",
    "import numpy as geek \n",
    " \n",
    "# Working on 1D array\n",
    "array = [geek.nan, 4, 2, 3, 1]\n",
    "print(\"INPUT ARRAY 1 : \\n\", array)\n",
    " \n",
    "array2 = geek.array([[geek.nan, 4], [1, 3]])\n",
    " \n",
    "# returning Indices of the max element\n",
    "# as per the indices ingnoring NaN\n",
    "print((\"\\nIndices of max in array1 : \"\n",
    "       , geek.nanargmax(array)))\n",
    " \n",
    "# Working on 2D array\n",
    "print(\"\\nINPUT ARRAY 2 : \\n\", array2)\n",
    "print((\"\\nIndices of max in array2 : \"\n",
    "      , geek.nanargmax(array2)))\n",
    " \n",
    "print((\"\\nIndices at axis 1 of array2 : \"\n",
    "      , geek.nanargmax(array2, axis = 1)))"
   ]
  },
  {
   "cell_type": "code",
   "execution_count": 6,
   "metadata": {},
   "outputs": [
    {
     "name": "stdout",
     "output_type": "stream",
     "text": [
      "INPUT ARRAY : \n",
      " [0 1 2 3 4 5 6 7]\n",
      "\n",
      "Indices of min element :  0\n"
     ]
    }
   ],
   "source": [
    "# working of argmin()\n",
    " \n",
    "import numpy as geek \n",
    " \n",
    "# Working on 1D array\n",
    "array = geek.arange(8)\n",
    "print(\"INPUT ARRAY : \\n\", array)\n",
    " \n",
    " \n",
    "# returning Indices of the min element\n",
    "# as per the indices\n",
    "print(\"\\nIndices of min element : \", geek.argmin(array, axis=0))"
   ]
  },
  {
   "cell_type": "markdown",
   "metadata": {},
   "source": [
    "# Counting"
   ]
  },
  {
   "cell_type": "code",
   "execution_count": 15,
   "metadata": {},
   "outputs": [
    {
     "name": "stdout",
     "output_type": "stream",
     "text": [
      "Number of nonzero values is : 5\n",
      "Number of nonzero values is : 5\n"
     ]
    }
   ],
   "source": [
    "# working of count_nonzero()\n",
    " \n",
    "import numpy as np\n",
    "  \n",
    "# Counting a number of \n",
    "# non-zero values\n",
    "a = np.count_nonzero([[0,1,7,0,0],[3,0,0,2,19]])\n",
    "b = np.count_nonzero([[0,1,7,0,0],[3,0,0,2,19]])\n",
    " \n",
    "print(\"Number of nonzero values is :\",a)\n",
    "print(\"Number of nonzero values is :\",b)"
   ]
  }
 ],
 "metadata": {
  "kernelspec": {
   "display_name": "Python 3",
   "language": "python",
   "name": "python3"
  },
  "language_info": {
   "codemirror_mode": {
    "name": "ipython",
    "version": 3
   },
   "file_extension": ".py",
   "mimetype": "text/x-python",
   "name": "python",
   "nbconvert_exporter": "python",
   "pygments_lexer": "ipython3",
   "version": "3.7.4"
  }
 },
 "nbformat": 4,
 "nbformat_minor": 2
}
