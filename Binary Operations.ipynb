{
 "cells": [
  {
   "cell_type": "markdown",
   "metadata": {},
   "source": [
    "# Binary Operations"
   ]
  },
  {
   "cell_type": "code",
   "execution_count": 3,
   "metadata": {},
   "outputs": [
    {
     "name": "stdout",
     "output_type": "stream",
     "text": [
      "Input  number1 :  10\n",
      "Input  number2 :  11\n",
      "bitwise_and of 10 and 11 :  10\n"
     ]
    }
   ],
   "source": [
    "# bitwise_and() function\n",
    "\n",
    "import numpy as geek\n",
    "in_num1 = 10\n",
    "in_num2 = 11\n",
    "\n",
    "print (\"Input  number1 : \", in_num1)\n",
    "print (\"Input  number2 : \", in_num2) \n",
    "  \n",
    "out_num = geek.bitwise_and(in_num1, in_num2) \n",
    "print (\"bitwise_and of 10 and 11 : \", out_num) "
   ]
  },
  {
   "cell_type": "code",
   "execution_count": 2,
   "metadata": {},
   "outputs": [
    {
     "name": "stdout",
     "output_type": "stream",
     "text": [
      "Input array1 :  [2, 8, 125]\n",
      "Input array2 :  [3, 3, 115]\n",
      "Output array after bitwise_and:  [  2   0 113]\n"
     ]
    }
   ],
   "source": [
    "# bitwise_and() function\n",
    "\n",
    "import numpy as geek\n",
    "\n",
    "in_arr1 = [2, 8, 125]\n",
    "in_arr2 = [3, 3, 115]\n",
    " \n",
    "print (\"Input array1 : \", in_arr1) \n",
    "print (\"Input array2 : \", in_arr2)\n",
    "  \n",
    "out_arr = geek.bitwise_and(in_arr1, in_arr2) \n",
    "print (\"Output array after bitwise_and: \", out_arr) "
   ]
  },
  {
   "cell_type": "code",
   "execution_count": 4,
   "metadata": {},
   "outputs": [
    {
     "name": "stdout",
     "output_type": "stream",
     "text": [
      "Input  number1 :  10\n",
      "Input  number2 :  11\n",
      "bitwise_or of 10 and 11 :  11\n"
     ]
    }
   ],
   "source": [
    "# bitwise_or() function\n",
    "\n",
    "import numpy as geek\n",
    "in_num1 = 10\n",
    "in_num2 = 11\n",
    "\n",
    "print (\"Input  number1 : \", in_num1)\n",
    "print (\"Input  number2 : \", in_num2) \n",
    "  \n",
    "out_num = geek.bitwise_or(in_num1, in_num2) \n",
    "print (\"bitwise_or of 10 and 11 : \", out_num) "
   ]
  },
  {
   "cell_type": "code",
   "execution_count": 5,
   "metadata": {},
   "outputs": [
    {
     "name": "stdout",
     "output_type": "stream",
     "text": [
      "Input  number1 :  10\n",
      "Input  number2 :  11\n",
      "bitwise_or of 10 and 11 :  11\n"
     ]
    }
   ],
   "source": [
    "# bitwise_or() function\n",
    "\n",
    "import numpy as geek\n",
    "in_num1 = 10\n",
    "in_num2 = 11\n",
    "\n",
    "print (\"Input  number1 : \", in_num1)\n",
    "print (\"Input  number2 : \", in_num2) \n",
    "  \n",
    "out_num = geek.bitwise_or(in_num1, in_num2) \n",
    "print (\"bitwise_or of 10 and 11 : \", out_num) "
   ]
  },
  {
   "cell_type": "code",
   "execution_count": 6,
   "metadata": {},
   "outputs": [
    {
     "name": "stdout",
     "output_type": "stream",
     "text": [
      "Input  number1 :  10\n",
      "Input  number2 :  11\n",
      "bitwise_xor of 10 and 11 :  1\n"
     ]
    }
   ],
   "source": [
    "# bitwise_xor() function\n",
    " \n",
    "import numpy as geek\n",
    "in_num1 = 10\n",
    "in_num2 = 11\n",
    " \n",
    "print (\"Input  number1 : \", in_num1)\n",
    "print (\"Input  number2 : \", in_num2) \n",
    "   \n",
    "out_num = geek.bitwise_xor(in_num1, in_num2) \n",
    "print (\"bitwise_xor of 10 and 11 : \", out_num) "
   ]
  },
  {
   "cell_type": "code",
   "execution_count": 7,
   "metadata": {},
   "outputs": [
    {
     "name": "stdout",
     "output_type": "stream",
     "text": [
      "Input array1 :  [2, 8, 125]\n",
      "Input array2 :  [3, 3, 115]\n",
      "Output array after bitwise_xor:  [ 1 11 14]\n"
     ]
    }
   ],
   "source": [
    "# bitwise_xor() function\n",
    " \n",
    "import numpy as geek\n",
    " \n",
    "in_arr1 = [2, 8, 125]\n",
    "in_arr2 = [3, 3, 115]\n",
    "  \n",
    "print (\"Input array1 : \", in_arr1) \n",
    "print (\"Input array2 : \", in_arr2)\n",
    "   \n",
    "out_arr = geek.bitwise_xor(in_arr1, in_arr2) \n",
    "print (\"Output array after bitwise_xor: \", out_arr) "
   ]
  },
  {
   "cell_type": "code",
   "execution_count": 8,
   "metadata": {},
   "outputs": [
    {
     "name": "stdout",
     "output_type": "stream",
     "text": [
      "Input  number :  10\n",
      "inversion of 10 :  -11\n"
     ]
    }
   ],
   "source": [
    "# invert() function\n",
    " \n",
    "import numpy as geek\n",
    "in_num = 10\n",
    "print (\"Input  number : \", in_num)\n",
    "   \n",
    "out_num = geek.invert(in_num) \n",
    "print (\"inversion of 10 : \", out_num) "
   ]
  },
  {
   "cell_type": "code",
   "execution_count": 9,
   "metadata": {},
   "outputs": [
    {
     "name": "stdout",
     "output_type": "stream",
     "text": [
      "Input array :  [2, 0, 25]\n",
      "Output array after inversion:  [ -3  -1 -26]\n"
     ]
    }
   ],
   "source": [
    "# invert() function\n",
    " \n",
    "import numpy as geek\n",
    " \n",
    "in_arr = [2, 0, 25]\n",
    "print (\"Input array : \", in_arr)\n",
    "   \n",
    "out_arr = geek.invert(in_arr) \n",
    "print (\"Output array after inversion: \", out_arr) \n"
   ]
  },
  {
   "cell_type": "code",
   "execution_count": 10,
   "metadata": {},
   "outputs": [
    {
     "name": "stdout",
     "output_type": "stream",
     "text": [
      "Input  number :  5\n",
      "Number of bit shift :  2\n",
      "After left shifting 2 bit  :  20\n"
     ]
    }
   ],
   "source": [
    "# left_shift() function\n",
    " \n",
    "import numpy as geek\n",
    "in_num = 5\n",
    "bit_shift = 2\n",
    " \n",
    "print (\"Input  number : \", in_num)\n",
    "print (\"Number of bit shift : \", bit_shift ) \n",
    "   \n",
    "out_num = geek.left_shift(in_num, bit_shift) \n",
    "print (\"After left shifting 2 bit  : \", out_num) "
   ]
  },
  {
   "cell_type": "code",
   "execution_count": 11,
   "metadata": {},
   "outputs": [
    {
     "name": "stdout",
     "output_type": "stream",
     "text": [
      "Input array :  [2, 8, 15]\n",
      "Number of bit shift :  [3, 4, 5]\n",
      "Output array after left shifting:  [ 16 128 480]\n"
     ]
    }
   ],
   "source": [
    "# left_shift() function\n",
    " \n",
    "import numpy as geek\n",
    " \n",
    "in_arr = [2, 8, 15]\n",
    "bit_shift =[3, 4, 5]\n",
    "  \n",
    "print (\"Input array : \", in_arr) \n",
    "print (\"Number of bit shift : \", bit_shift)\n",
    "   \n",
    "out_arr = geek.left_shift(in_arr, bit_shift) \n",
    "print (\"Output array after left shifting: \", out_arr) "
   ]
  },
  {
   "cell_type": "code",
   "execution_count": 12,
   "metadata": {},
   "outputs": [
    {
     "name": "stdout",
     "output_type": "stream",
     "text": [
      "Input  number :  20\n",
      "Number of bit shift :  2\n",
      "After right shifting 2 bit  :  5\n"
     ]
    }
   ],
   "source": [
    "# right_shift() function\n",
    " \n",
    "import numpy as geek\n",
    "in_num = 20\n",
    "bit_shift = 2\n",
    " \n",
    "print (\"Input  number : \", in_num)\n",
    "print (\"Number of bit shift : \", bit_shift ) \n",
    "   \n",
    "out_num = geek.right_shift(in_num, bit_shift) \n",
    "print (\"After right shifting 2 bit  : \", out_num) "
   ]
  },
  {
   "cell_type": "code",
   "execution_count": 13,
   "metadata": {},
   "outputs": [
    {
     "name": "stdout",
     "output_type": "stream",
     "text": [
      "Input array :  [24, 48, 16]\n",
      "Number of bit shift :  [3, 4, 2]\n",
      "Output array after right shifting:  [3 3 4]\n"
     ]
    }
   ],
   "source": [
    "# right_shift() function\n",
    " \n",
    "import numpy as geek\n",
    " \n",
    "in_arr = [24, 48, 16]\n",
    "bit_shift =[3, 4, 2]\n",
    "  \n",
    "print (\"Input array : \", in_arr) \n",
    "print (\"Number of bit shift : \", bit_shift)\n",
    "   \n",
    "out_arr = geek.right_shift(in_arr, bit_shift) \n",
    "print (\"Output array after right shifting: \", out_arr) "
   ]
  },
  {
   "cell_type": "code",
   "execution_count": 14,
   "metadata": {},
   "outputs": [
    {
     "name": "stdout",
     "output_type": "stream",
     "text": [
      "Input  number :  10\n",
      "binary representation of 10 :  1010\n"
     ]
    }
   ],
   "source": [
    "# binary_repr() function\n",
    " \n",
    "import numpy as geek\n",
    "in_num = 10\n",
    " \n",
    "print (\"Input  number : \", in_num)\n",
    " \n",
    "out_num = geek.binary_repr(in_num) \n",
    "print (\"binary representation of 10 : \", out_num) "
   ]
  },
  {
   "cell_type": "code",
   "execution_count": 15,
   "metadata": {},
   "outputs": [
    {
     "name": "stdout",
     "output_type": "stream",
     "text": [
      "Input array :  [5, -8]\n",
      "Binary representation of 5\n",
      "Without using width parameter :  101\n",
      "Using width parameter:  00101\n",
      "\n",
      "Binary representation of -8\n",
      "Without using width parameter :  -1000\n",
      "Using width parameter :  11000\n"
     ]
    }
   ],
   "source": [
    "# binary_repr() function\n",
    "import numpy as geek\n",
    " \n",
    "in_arr = [5, -8 ]\n",
    "  \n",
    "print (\"Input array : \", in_arr) \n",
    " \n",
    "# binary representation of first array  \n",
    "# element without using width parameter\n",
    "out_num = geek.binary_repr(in_arr[0])\n",
    "print(\"Binary representation of 5\")\n",
    "print (\"Without using width parameter : \", out_num) \n",
    " \n",
    "# binary representation of first array\n",
    "# element using width parameter\n",
    "out_num = geek.binary_repr(in_arr[0], width = 5)\n",
    "print (\"Using width parameter: \", out_num) \n",
    " \n",
    "print(\"\\nBinary representation of -8\")\n",
    " \n",
    "# binary representation of 2nd array\n",
    "# element without using width parameter\n",
    "out_num = geek.binary_repr(in_arr[1])\n",
    "print (\"Without using width parameter : \", out_num) \n",
    " \n",
    "# binary representation of 2nd array\n",
    "# element  using width parameter\n",
    "out_num = geek.binary_repr(in_arr[1], width = 5)\n",
    "print (\"Using width parameter : \", out_num) "
   ]
  },
  {
   "cell_type": "code",
   "execution_count": 16,
   "metadata": {},
   "outputs": [
    {
     "name": "stdout",
     "output_type": "stream",
     "text": [
      "[[[160]\n",
      "  [ 64]]\n",
      "\n",
      " [[192]\n",
      "  [ 32]]]\n"
     ]
    }
   ],
   "source": [
    "# packbits() function\n",
    "import numpy as np\n",
    " \n",
    "# creating an array using \n",
    "# array function\n",
    "a = np.array([[[1,0,1],\n",
    "             [0,1,0]],\n",
    "             [[1,1,0],\n",
    "             [0,0,1]]])\n",
    " \n",
    "# packing elements of an array\n",
    "# using packbits() function\n",
    "b = np.packbits(a, axis=-1)\n",
    " \n",
    "print(b)"
   ]
  },
  {
   "cell_type": "code",
   "execution_count": 17,
   "metadata": {},
   "outputs": [
    {
     "name": "stdout",
     "output_type": "stream",
     "text": [
      "[[0 0 0 0 0 0 1 0]\n",
      " [0 0 0 0 0 1 1 1]\n",
      " [0 0 0 1 0 1 1 1]]\n"
     ]
    }
   ],
   "source": [
    "# unpackbits() function\n",
    "import numpy as np\n",
    " \n",
    "# creating an array using \n",
    "# array function\n",
    "a = np.array([[2], [7], [23]], dtype=np.uint8)\n",
    " \n",
    "# packing elements of an array\n",
    "# using packbits() function\n",
    "b = np.unpackbits(a, axis = 1)\n",
    " \n",
    "print(b)"
   ]
  }
 ],
 "metadata": {
  "kernelspec": {
   "display_name": "Python 3",
   "language": "python",
   "name": "python3"
  },
  "language_info": {
   "codemirror_mode": {
    "name": "ipython",
    "version": 3
   },
   "file_extension": ".py",
   "mimetype": "text/x-python",
   "name": "python",
   "nbconvert_exporter": "python",
   "pygments_lexer": "ipython3",
   "version": "3.7.4"
  }
 },
 "nbformat": 4,
 "nbformat_minor": 2
}
