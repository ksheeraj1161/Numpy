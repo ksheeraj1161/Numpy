{
 "cells": [
  {
   "cell_type": "markdown",
   "metadata": {},
   "source": [
    "# Iterating Over Array\n",
    "\n",
    "Efficient multidimensional iterator object using which it is possible to iterate over an array. Each element of an array is visited using Python’s standard Iterator interface."
   ]
  },
  {
   "cell_type": "code",
   "execution_count": 4,
   "metadata": {},
   "outputs": [
    {
     "name": "stdout",
     "output_type": "stream",
     "text": [
      "Original array is:\n",
      "[[ 0  1  2  3]\n",
      " [ 4  5  6  7]\n",
      " [ 8  9 10 11]]\n",
      "\n",
      "Modified array is:\n",
      "0\n",
      "1\n",
      "2\n",
      "3\n",
      "4\n",
      "5\n",
      "6\n",
      "7\n",
      "8\n",
      "9\n",
      "10\n",
      "11\n"
     ]
    }
   ],
   "source": [
    "# iterating over array\n",
    "import numpy as geek\n",
    " \n",
    "# creating an array using arrange \n",
    "# method\n",
    "a = geek.arange(12)\n",
    " \n",
    "# shape array with 3 rows and \n",
    "# 4 columns\n",
    "a = a.reshape(3,4)\n",
    " \n",
    "print('Original array is:')\n",
    "print(a)\n",
    "print()\n",
    " \n",
    "print('Modified array is:')\n",
    " \n",
    "# iterating  an array\n",
    "for x in geek.nditer(a):\n",
    "    print(x)"
   ]
  },
  {
   "cell_type": "code",
   "execution_count": 5,
   "metadata": {},
   "outputs": [
    {
     "name": "stdout",
     "output_type": "stream",
     "text": [
      "Original array is:\n",
      "[[ 0  1  2  3]\n",
      " [ 4  5  6  7]\n",
      " [ 8  9 10 11]]\n",
      "\n",
      "Modified array is:\n",
      "0\n",
      "1\n",
      "2\n",
      "3\n",
      "4\n",
      "5\n",
      "6\n",
      "7\n",
      "8\n",
      "9\n",
      "10\n",
      "11\n"
     ]
    }
   ],
   "source": [
    "# iterating over transpose\n",
    "# array\n",
    " \n",
    "import numpy as geek \n",
    " \n",
    "# creating an array using arrange \n",
    "# method\n",
    "a = geek.arange(12)\n",
    " \n",
    "# shape array with 3 rows and \n",
    "# 4 columns \n",
    "a = a.reshape(3,4) \n",
    "    \n",
    "print('Original array is:')\n",
    "print(a)\n",
    "print()  \n",
    "    \n",
    "# Transpose of original array\n",
    "b = a.T \n",
    "    \n",
    "print('Modified array is:')\n",
    "for x in geek.nditer(b): \n",
    "    print(x)"
   ]
  },
  {
   "cell_type": "markdown",
   "metadata": {},
   "source": [
    "# Controlling Iteration Order:\n",
    "There are times when it is important to visit the elements of an array in a specific order, irrespective of the layout of the elements in memory. The nditer object provides an order parameter to control this aspect of iteration. The default, having the behavior described above, is order=’K’ to keep the existing order. This can be overridden with order=’C’ for C order and order=’F’ for Fortran order."
   ]
  },
  {
   "cell_type": "code",
   "execution_count": 6,
   "metadata": {},
   "outputs": [
    {
     "name": "stdout",
     "output_type": "stream",
     "text": [
      "Original array is:\n",
      "[[ 0  1  2  3]\n",
      " [ 4  5  6  7]\n",
      " [ 8  9 10 11]]\n",
      "\n",
      "Modified array in C-style order:\n",
      "0\n",
      "1\n",
      "2\n",
      "3\n",
      "4\n",
      "5\n",
      "6\n",
      "7\n",
      "8\n",
      "9\n",
      "10\n",
      "11\n"
     ]
    }
   ],
   "source": [
    "# iterating over array\n",
    "# using particular order\n",
    " \n",
    "import numpy as geek \n",
    " \n",
    "# creating an array using arrange \n",
    "# method\n",
    "a = geek.arange(12) \n",
    " \n",
    "# shape array with 3 rows and \n",
    "# 4 columns \n",
    "a = a.reshape(3,4) \n",
    " \n",
    "print('Original array is:') \n",
    "print(a)\n",
    "print()  \n",
    " \n",
    "print('Modified array in C-style order:')\n",
    " \n",
    "# iterating an array in a given\n",
    "# order  \n",
    "for x in geek.nditer(a, order = 'C'): \n",
    "    print(x)"
   ]
  },
  {
   "cell_type": "code",
   "execution_count": 7,
   "metadata": {},
   "outputs": [
    {
     "name": "stdout",
     "output_type": "stream",
     "text": [
      "Original array is:\n",
      "[[ 0  5 10 15]\n",
      " [20 25 30 35]\n",
      " [40 45 50 55]]\n",
      "\n",
      "Modified array in F-style order:\n",
      "0\n",
      "20\n",
      "40\n",
      "5\n",
      "25\n",
      "45\n",
      "10\n",
      "30\n",
      "50\n",
      "15\n",
      "35\n",
      "55\n"
     ]
    }
   ],
   "source": [
    "# iterating over array\n",
    "# using particular order\n",
    " \n",
    "import numpy as geek \n",
    " \n",
    "# creating an array using arrange \n",
    "# method\n",
    "a = geek.arange(0,60,5) \n",
    " \n",
    "# shape array with 3 rows and \n",
    "# 4 columns \n",
    "a = a.reshape(3,4) \n",
    " \n",
    "print('Original array is:') \n",
    "print(a)\n",
    "print()  \n",
    " \n",
    "print('Modified array in F-style order:')\n",
    " \n",
    "# iterating an array in a given\n",
    "# order   \n",
    "for x in geek.nditer(a, order = 'F'): \n",
    "    print(x)"
   ]
  },
  {
   "cell_type": "markdown",
   "metadata": {},
   "source": [
    "# Modifying Array Values:\n",
    "The nditer object has another optional parameter called op_flags. Its default value is read-only, but can be set to read-write or write-only mode. This will enable modifying array elements using this iterator."
   ]
  },
  {
   "cell_type": "code",
   "execution_count": 8,
   "metadata": {},
   "outputs": [
    {
     "name": "stdout",
     "output_type": "stream",
     "text": [
      "Original array is:\n",
      "[[ 0  1  2  3]\n",
      " [ 4  5  6  7]\n",
      " [ 8  9 10 11]]\n",
      "\n",
      "Modified array is:\n",
      "[[ 0  5 10 15]\n",
      " [20 25 30 35]\n",
      " [40 45 50 55]]\n"
     ]
    }
   ],
   "source": [
    "# modifying array values\n",
    " \n",
    "import numpy as geek\n",
    " \n",
    "# creating an array using arrange \n",
    "# method\n",
    "a = geek.arange(12)\n",
    " \n",
    "# shape array with 3 rows and \n",
    "# 4 columns \n",
    "a = a.reshape(3,4)\n",
    "print('Original array is:')\n",
    "print(a)\n",
    "print()\n",
    " \n",
    "# modifying array values\n",
    "for x in geek.nditer(a, op_flags = ['readwrite']):\n",
    "    x[...] = 5*x\n",
    "print('Modified array is:')\n",
    "print(a)"
   ]
  },
  {
   "cell_type": "markdown",
   "metadata": {},
   "source": [
    "# External loop"
   ]
  },
  {
   "cell_type": "code",
   "execution_count": 9,
   "metadata": {},
   "outputs": [
    {
     "name": "stdout",
     "output_type": "stream",
     "text": [
      "Original array is:\n",
      "[[ 0  1  2  3]\n",
      " [ 4  5  6  7]\n",
      " [ 8  9 10 11]]\n",
      "\n",
      "Modified array is:\n",
      "[ 0  1  2  3  4  5  6  7  8  9 10 11]\n"
     ]
    }
   ],
   "source": [
    "# iterating array values\n",
    "# using external loop\n",
    " \n",
    "import numpy as geek \n",
    " \n",
    "# creating an array using arrange \n",
    "# method\n",
    "a = geek.arange(12) \n",
    " \n",
    "# shape array with 3 rows and \n",
    "# 4 columns \n",
    "a = a.reshape(3,4) \n",
    " \n",
    "print('Original array is:') \n",
    "print(a) \n",
    "print()  \n",
    " \n",
    "print('Modified array is:') \n",
    "for x in geek.nditer(a, flags = ['external_loop'], order = 'C'):\n",
    "    print(x)\n"
   ]
  },
  {
   "cell_type": "code",
   "execution_count": 10,
   "metadata": {},
   "outputs": [
    {
     "name": "stdout",
     "output_type": "stream",
     "text": [
      "Original array is:\n",
      "[[0 1 2]\n",
      " [3 4 5]]\n",
      "\n",
      "0 <0> 1 <2> 2 <4> 3 <1> 4 <3> 5 <5> "
     ]
    }
   ],
   "source": [
    "# iterating array values\n",
    "# using f_index\n",
    " \n",
    "import numpy as geek \n",
    " \n",
    "# creating an array using arrange \n",
    "# method\n",
    "a = geek.arange(6)\n",
    " \n",
    "# shape array with 2 rows and \n",
    "# 3 columns \n",
    "a = a.reshape(2,3)\n",
    " \n",
    "print('Original array is:')\n",
    "print(a)\n",
    "print()\n",
    " \n",
    "# iterating array using f_index \n",
    "# parameter\n",
    "it = geek.nditer(a, flags=['f_index'])\n",
    "while not it.finished:\n",
    "      print(\"%d <%d>\" % (it[0], it.index), end=\" \")\n",
    "      it.iternext()"
   ]
  },
  {
   "cell_type": "markdown",
   "metadata": {},
   "source": [
    "# Broadcasting Iteration:\n",
    "If two arrays are broadcastable, a combined nditer object is able to iterate upon them concurrently. Assuming that an array a has dimension 3X4, and there is another array b of dimension 1X4, the iterator of following type is used (array b is broadcast to size of a)."
   ]
  },
  {
   "cell_type": "code",
   "execution_count": 11,
   "metadata": {},
   "outputs": [
    {
     "name": "stdout",
     "output_type": "stream",
     "text": [
      "First array is:\n",
      "[[ 0  1  2  3]\n",
      " [ 4  5  6  7]\n",
      " [ 8  9 10 11]]\n",
      "\n",
      "Second array is:\n",
      "[5 6 7 8]\n",
      "\n",
      "Modified array is:\n",
      "0:5\n",
      "1:6\n",
      "2:7\n",
      "3:8\n",
      "4:5\n",
      "5:6\n",
      "6:7\n",
      "7:8\n",
      "8:5\n",
      "9:6\n",
      "10:7\n",
      "11:8\n"
     ]
    }
   ],
   "source": [
    "# iterating array \n",
    " \n",
    "import numpy as geek\n",
    " \n",
    "# creating an array using arrange \n",
    "# method \n",
    "a = geek.arange(12)\n",
    " \n",
    " # shape array with 3 rows and \n",
    "# 4 columns \n",
    "a = a.reshape(3,4) \n",
    " \n",
    "print('First array is:') \n",
    "print(a)\n",
    "print()  \n",
    " \n",
    "# Creating second array using \n",
    "# array method\n",
    "print('Second array is:') \n",
    "b = geek.array([5, 6, 7, 8], dtype = int) \n",
    "print(b)  \n",
    "print() \n",
    " \n",
    "print('Modified array is:')\n",
    "for x,y in geek.nditer([a,b]): \n",
    "    print(\"%d:%d\" % (x,y))"
   ]
  }
 ],
 "metadata": {
  "kernelspec": {
   "display_name": "Python 3",
   "language": "python",
   "name": "python3"
  },
  "language_info": {
   "codemirror_mode": {
    "name": "ipython",
    "version": 3
   },
   "file_extension": ".py",
   "mimetype": "text/x-python",
   "name": "python",
   "nbconvert_exporter": "python",
   "pygments_lexer": "ipython3",
   "version": "3.7.4"
  }
 },
 "nbformat": 4,
 "nbformat_minor": 2
}
